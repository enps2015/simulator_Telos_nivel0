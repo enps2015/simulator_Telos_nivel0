{
  "nbformat": 4,
  "nbformat_minor": 0,
  "metadata": {
    "colab": {
      "provenance": [],
      "authorship_tag": "ABX9TyMtcivLELZ2z5a3/dylKeka",
      "include_colab_link": true
    },
    "kernelspec": {
      "name": "python3",
      "display_name": "Python 3"
    },
    "language_info": {
      "name": "python"
    }
  },
  "cells": [
    {
      "cell_type": "markdown",
      "metadata": {
        "id": "view-in-github",
        "colab_type": "text"
      },
      "source": [
        "<a href=\"https://colab.research.google.com/github/enps2015/simulator_Telos_nivel0/blob/main/SimulatorT%C3%A9losN%C3%ADvel0.ipynb\" target=\"_parent\"><img src=\"https://colab.research.google.com/assets/colab-badge.svg\" alt=\"Open In Colab\"/></a>"
      ]
    },
    {
      "cell_type": "markdown",
      "source": [
        "1 - Importando as bibliotecas \"sqlite3\", que permte interagir com banco de dados SQLite, e a biblioteca \"pandas\" para realizar a manipulação e análise dos dados em Python"
      ],
      "metadata": {
        "id": "Z6i_x-s3xQHu"
      }
    },
    {
      "cell_type": "code",
      "execution_count": 7,
      "metadata": {
        "id": "9xbEpgjNwTAo"
      },
      "outputs": [],
      "source": [
        "import sqlite3\n",
        "import pandas as pd\n"
      ]
    },
    {
      "cell_type": "markdown",
      "source": [
        "2 - Criando o Banco de Dados e as Tabelas\n",
        "\n",
        "  - Criando a conexão com o banco de dados \"empresa_abc.db\" (O cursor é um objeto que permite executar comandos SQL no banco de dados)\n"
      ],
      "metadata": {
        "id": "Q_CQWXeCyQ1D"
      }
    },
    {
      "cell_type": "code",
      "source": [
        "conn = sqlite3.connect('empresa_abc.db')\n",
        "cursor = conn.cursor()"
      ],
      "metadata": {
        "id": "Vnwkmsu1yO1D"
      },
      "execution_count": 8,
      "outputs": []
    },
    {
      "cell_type": "markdown",
      "source": [
        " - Criando as tabelas no Python"
      ],
      "metadata": {
        "id": "rjHGq_kX0YaF"
      }
    },
    {
      "cell_type": "code",
      "source": [
        "cursor.execute('''\n",
        "    CREATE TABLE Clientes (\n",
        "        id_Cliente INTEGER PRIMARY KEY,\n",
        "        Nome TEXT,\n",
        "        Pais TEXT\n",
        "    )\n",
        "''')\n",
        "\n",
        "cursor.execute('''\n",
        "    CREATE TABLE Produtos (\n",
        "        id_Produto INTEGER PRIMARY KEY,\n",
        "        Nome_Produto TEXT,\n",
        "        Categoria TEXT,\n",
        "        Preco REAL\n",
        "    )\n",
        "''')\n",
        "\n",
        "cursor.execute('''\n",
        "    CREATE TABLE Pedidos (\n",
        "        id_Pedido INTEGER PRIMARY KEY,\n",
        "        id_Cliente INTEGER,\n",
        "        Data_Pedido DATE,\n",
        "        FOREIGN KEY (id_Cliente) REFERENCES Clientes(id_Cliente)\n",
        "    )\n",
        "''')\n",
        "\n",
        "cursor.execute ('''\n",
        "    CREATE TABLE Detalhes_Pedidos (\n",
        "        id_Pedido INTEGER,\n",
        "        id_Produto INTEGER,\n",
        "        Quantidade INTEGER,\n",
        "        FOREIGN KEY (id_Pedido) REFERENCES Pedidos(id_Pedido),\n",
        "        FOREIGN KEY (id_Produto) REFERENCES Produtos(id_Produto)\n",
        "    )\n",
        "''')\n",
        "\n",
        "conn.commit()"
      ],
      "metadata": {
        "id": "VehFq05L0Xq6"
      },
      "execution_count": 9,
      "outputs": []
    },
    {
      "cell_type": "markdown",
      "source": [
        "3 - Gerando mock de dados ficitícios com Gemini\n",
        "\n",
        "  Os seguintes prompts foram usados para gerar todas as bases de dados com a genAI:\n",
        "\n",
        "   - Clientes:\n",
        "\n",
        "  Crie um mock de dados fictício com 50 linhas para a tabela Clientes, incluindo as colunas ID_Cliente (inteiro), Nome (texto) e Pais (texto).\n",
        "\n",
        "  Exemplo:\n",
        "\n",
        "  ID_Cliente | Nome | Pais\n",
        "\n",
        " 1 | João Silva | Brasil\n",
        "\n",
        " 2 | Maria Santos | Argentina\n",
        "\n",
        "- Produtos:\n",
        "\n",
        "  Crie um mock de dados fictício com 50 linhas para a tabela Produtos, incluindo as colunas ID_Produto (inteiro), Nome_Produto (texto), Categoria (texto) e Preco (número decimal).\n",
        "\n",
        "  Exemplo:\n",
        "\n",
        "  ID_Produto | Nome_Produto | Categoria | Preco\n",
        "\n",
        "  1 | Smartphone X | Eletrônicos | 1299.99\n",
        "\n",
        "  2 | Camiseta Manga Curta | Vestuário | 49.90\n",
        "\n",
        "  - Pedidos:\n",
        "\n",
        "  Crie um mock de dados fictício com 50 linhas para a tabela Pedidos, incluindo as colunas ID_Pedido (inteiro), ID_Cliente (inteiro, entre 1 e 100), Data_Pedido (data no formato AAAAMMDD).\n",
        "\n",
        "  Exemplo:\n",
        "\n",
        "  ID_Pedido | ID_Cliente | Data_Pedido\n",
        "\n",
        "  1 | 1 | 20231201\n",
        "\n",
        "  2 | 3 | 20231205\n",
        "\n",
        "  - Detalhes_Pedido:\n",
        "\n",
        "  Crie um mock de dados fictício com 50 linhas para a tabela Detalhes_Pedido, incluindo as colunas ID_Pedido (inteiro, entre 1 e 100), ID_Produto (inteiro, entre 1 e 100) e Quantidade (inteiro).\n",
        "\n",
        "  Exemplo:\n",
        "\n",
        "  ID_Pedido | ID_Produto | Quantidade\n",
        "\n",
        "  1 | 1 | 2\n",
        "\n",
        "  2 | 3 | 1\n",
        "\n",
        "Como resultado foram gerados os arquivos .csv:\n",
        "  - clientes.csv\n",
        "  - Produtos.csv\n",
        "  - Pedidos.csv\n",
        "  - detalhesPedido.csv\n"
      ],
      "metadata": {
        "id": "roYsQF1q1hwp"
      }
    },
    {
      "cell_type": "markdown",
      "source": [
        "4 - Inserindo os dados no Banco de Dados empresa_abc.db\n",
        "\n",
        "  - Crinado conexão com o banco de dados"
      ],
      "metadata": {
        "id": "QrnRYkrl6alV"
      }
    },
    {
      "cell_type": "markdown",
      "source": [
        "  - Inserindo os dados com a biblioteca Pandas"
      ],
      "metadata": {
        "id": "4BDcUbhz9Hox"
      }
    },
    {
      "cell_type": "code",
      "source": [
        "# Inserindo dados\n",
        "# Lendo dados do CSV\n",
        "clientes_df = pd.read_csv('clientes.csv')\n",
        "\n",
        "# Inserindo dados na tabela Clientes\n",
        "for index, row in clientes_df.iterrows():\n",
        "    cursor.execute(\"INSERT INTO Clientes (id_Cliente, Nome, Pais) VALUES (?, ?, ?)\", (row['id_Cliente'], row['Nome'], row['Pais']))\n",
        "\n",
        "# Lendo dados do CSV\n",
        "produtos_df = pd.read_csv('Produtos.csv')\n",
        "\n",
        "# Inserindo dados na tabela Produtos\n",
        "for index, row in produtos_df.iterrows():\n",
        "    cursor.execute(\"INSERT INTO Produtos (id_Produto, Nome_Produto, Categoria, Preco) VALUES (?, ?, ?, ?)\", (row['id_Produto'], row['Nome_Produto'], row['Categoria'], row['Preco']))\n",
        "\n",
        "# Lendo dados do CSV\n",
        "pedidos_df = pd.read_csv('Pedidos.csv')\n",
        "\n",
        "# Convertendo a coluna Data_Pedido para o tipo datetime (usando o formato correto)\n",
        "pedidos_df['Data_Pedido'] = pd.to_datetime(pedidos_df['Data_Pedido'], format='%Y%m%d')\n",
        "\n",
        "# Inserindo dados na tabela Pedidos\n",
        "for index, row in pedidos_df.iterrows():\n",
        "    cursor.execute(\"INSERT INTO Pedidos (id_Pedido, id_Cliente, Data_Pedido) VALUES (?, ?, ?)\",\n",
        "                   (row['id_Pedido'], row['id_Cliente'], row['Data_Pedido'].strftime('%Y-%m-%d')))\n",
        "\n",
        "# Inserir dados na tabela Detalhes_Pedidos (convertendo para int diretamente)\n",
        "detalhesPedido_df = pd.read_csv('detalhesPedido.csv')\n",
        "\n",
        "for index, row in detalhesPedido_df.iterrows():\n",
        "    cursor.execute(\"INSERT INTO Detalhes_Pedidos (id_Pedido, id_Produto, Quantidade) VALUES (?, ?, ?)\",\n",
        "                   (int(row['id_Pedido']), int(row['id_Produto']), int(row['Quantidade'])))\n",
        "\n",
        "conn.commit()\n"
      ],
      "metadata": {
        "id": "jeyEE8vJ9aTZ"
      },
      "execution_count": 10,
      "outputs": []
    },
    {
      "cell_type": "markdown",
      "source": [
        "5 - Analisando Dados com Pandas e respondendo Perguntas de Negócio\n",
        "\n",
        "  - Análise de Clientes\n",
        "\n",
        "  a -  Quais são os top 5 países em número de clientes?\n"
      ],
      "metadata": {
        "id": "n9dnmQmtts2U"
      }
    },
    {
      "cell_type": "code",
      "source": [
        "# Carregar os dados da tabela Clientes\n",
        "clientes_df = pd.read_sql_query(\"SELECT * FROM Clientes\", conn)\n",
        "\n",
        "# Agrupar por país e contar o número de clientes\n",
        "top_paises_df = clientes_df.groupby('Pais')['id_Cliente'].count().sort_values(ascending=False).head(5).reset_index()\n",
        "\n",
        "# Mostrar o resultado\n",
        "print(\"Top 5 Países em número de clientes:\")\n",
        "print(top_paises_df)"
      ],
      "metadata": {
        "colab": {
          "base_uri": "https://localhost:8080/"
        },
        "id": "1Xz46C5otsMi",
        "outputId": "d430e836-39ab-4dfb-943f-3c6bb1080515"
      },
      "execution_count": 11,
      "outputs": [
        {
          "output_type": "stream",
          "name": "stdout",
          "text": [
            "Top 5 Países em número de clientes:\n",
            "        Pais  id_Cliente\n",
            "0     Brasil          25\n",
            "1  Argentina          13\n",
            "2   Portugal          12\n"
          ]
        }
      ]
    },
    {
      "cell_type": "markdown",
      "source": [
        "  - Análise de Clientes\n",
        "  \n",
        "    b - Quantos clientes únicos realizam mais de um pedido?"
      ],
      "metadata": {
        "id": "LKJ8ea-OgsGA"
      }
    },
    {
      "cell_type": "code",
      "source": [
        "# Carregar os dados das tabelas\n",
        "clientes_df = pd.read_sql_query(\"SELECT * FROM Clientes\", conn)\n",
        "pedidos_df = pd.read_sql_query(\"SELECT * FROM Pedidos\", conn)\n",
        "detalhes_pedido_df = pd.read_sql_query(\"SELECT * FROM Detalhes_Pedidos\", conn)\n",
        "\n",
        "# Juntar as tabelas\n",
        "merged_df = clientes_df.merge(pedidos_df, on='id_Cliente').merge(detalhes_pedido_df, on='id_Pedido')\n",
        "\n",
        "# Agrupar por id_Cliente e contar o número de pedidos\n",
        "pedidos_por_cliente_df = merged_df.groupby('id_Cliente')['id_Pedido'].count()\n",
        "\n",
        "# Filtrar clientes com mais de um pedido\n",
        "clientes_com_mais_de_um_pedido_df = pedidos_por_cliente_df[pedidos_por_cliente_df > 1]\n",
        "\n",
        "# Contar o número de clientes únicos\n",
        "num_clientes_unicos = len(clientes_com_mais_de_um_pedido_df.index)\n",
        "\n",
        "print(f\"Número de clientes únicos que realizaram mais de um pedido: {num_clientes_unicos}\")"
      ],
      "metadata": {
        "colab": {
          "base_uri": "https://localhost:8080/"
        },
        "id": "KIN25MexofjU",
        "outputId": "cec850ba-a92b-4868-9a34-20fcfe49945c"
      },
      "execution_count": 12,
      "outputs": [
        {
          "output_type": "stream",
          "name": "stdout",
          "text": [
            "Número de clientes únicos que realizaram mais de um pedido: 5\n"
          ]
        }
      ]
    },
    {
      "cell_type": "markdown",
      "source": [
        "  - Análise de Clientes\n",
        "  \n",
        "    c - Qual é o valor médio de pedidos por cliente em cada país?"
      ],
      "metadata": {
        "id": "TAGXi3aljcPn"
      }
    },
    {
      "cell_type": "code",
      "source": [
        "# Carregar os dados das tabelas\n",
        "clientes_df = pd.read_sql_query(\"SELECT * FROM Clientes\", conn)\n",
        "pedidos_df = pd.read_sql_query(\"SELECT * FROM Pedidos\", conn)\n",
        "detalhes_pedido_df = pd.read_sql_query(\"SELECT * FROM Detalhes_Pedidos\", conn)\n",
        "produtos_df = pd.read_sql_query(\"SELECT * FROM Produtos\", conn)\n",
        "\n",
        "# Juntar as tabelas usando id_Pedido e id_Cliente\n",
        "merged_df = pedidos_df.merge(detalhes_pedido_df, on='id_Pedido').merge(produtos_df, on='id_Produto').merge(clientes_df, on='id_Cliente')\n",
        "\n",
        "# Calcular o valor total do pedido\n",
        "merged_df['Valor_Total'] = merged_df['Quantidade'] * merged_df['Preco']\n",
        "\n",
        "# Agrupar por id_Cliente e Pais e somar o valor total\n",
        "valor_total_por_cliente_pais_df = merged_df.groupby(['id_Cliente', 'Pais'])['Valor_Total'].sum().reset_index()\n",
        "\n",
        "# Calcular o valor médio por cliente e país\n",
        "valor_medio_por_cliente_pais_df = valor_total_por_cliente_pais_df.groupby('Pais')['Valor_Total'].mean().reset_index()\n",
        "\n",
        "print(\"Valor médio de pedidos por cliente em cada país:\")\n",
        "print(valor_medio_por_cliente_pais_df)"
      ],
      "metadata": {
        "colab": {
          "base_uri": "https://localhost:8080/"
        },
        "id": "qHx_mYPGjX6g",
        "outputId": "c0b2ee31-c1ad-42f8-a598-c6008326a73d"
      },
      "execution_count": 17,
      "outputs": [
        {
          "output_type": "stream",
          "name": "stdout",
          "text": [
            "Valor médio de pedidos por cliente em cada país:\n",
            "        Pais  Valor_Total\n",
            "0  Argentina     42978.29\n",
            "1     Brasil     28144.87\n",
            "2   Portugal     27958.42\n"
          ]
        }
      ]
    },
    {
      "cell_type": "markdown",
      "source": [
        "  - Análise de Clientes\n",
        "  \n",
        "    d - Quais são os 3 principais clientes em termos de valor total de pedidos?"
      ],
      "metadata": {
        "id": "RBmUNQJenfIG"
      }
    },
    {
      "cell_type": "code",
      "source": [
        "# Carregar os dados das tabelas\n",
        "clientes_df = pd.read_sql_query(\"SELECT * FROM Clientes\", conn)\n",
        "detalhes_pedido_df = pd.read_sql_query(\"SELECT * FROM Detalhes_Pedidos\", conn)\n",
        "produtos_df = pd.read_sql_query(\"SELECT * FROM Produtos\", conn)\n",
        "pedidos_df = pd.read_sql_query(\"SELECT * FROM Pedidos\", conn)\n",
        "\n",
        "# Juntar as tabelas\n",
        "merged_df = pedidos_df.merge(detalhes_pedido_df, on='id_Pedido').merge(produtos_df, on='id_Produto')\n",
        "\n",
        "# Adicionar a coluna id_Cliente ao DataFrame merged_df\n",
        "merged_df = merged_df.merge(clientes_df, on='id_Cliente')\n",
        "\n",
        "# Calcular o valor total do pedido\n",
        "merged_df['Valor_Total'] = merged_df['Quantidade'] * merged_df['Preco']\n",
        "\n",
        "# Agrupar por id_Cliente e somar o valor total\n",
        "valor_total_por_cliente_df = merged_df.groupby('id_Cliente')['Valor_Total'].sum().reset_index()\n",
        "\n",
        "# Ordenar os clientes pelo valor total em ordem decrescente\n",
        "top_clientes_df = valor_total_por_cliente_df.sort_values('Valor_Total', ascending=False).head(3)\n",
        "\n",
        "print(\"Top 3 clientes em termos de valor total de pedidos:\")\n",
        "print(top_clientes_df)"
      ],
      "metadata": {
        "colab": {
          "base_uri": "https://localhost:8080/"
        },
        "id": "MDC3KUx0mKmh",
        "outputId": "1373d1b2-b927-4486-c1be-ab2270b8730f"
      },
      "execution_count": 19,
      "outputs": [
        {
          "output_type": "stream",
          "name": "stdout",
          "text": [
            "Top 3 clientes em termos de valor total de pedidos:\n",
            "   id_Cliente  Valor_Total\n",
            "1           2     42978.29\n",
            "4           5     34328.29\n",
            "3           4     31067.92\n"
          ]
        }
      ]
    },
    {
      "cell_type": "markdown",
      "source": [
        "  - Análise de Produtos\n",
        "    \n",
        "    a - Quais são as top 5 categorias de produtos mais vendidas?"
      ],
      "metadata": {
        "id": "OmjkxRAIu5xz"
      }
    },
    {
      "cell_type": "code",
      "source": [
        "import pandas as pd\n",
        "\n",
        "# Carregar os dados das tabelas\n",
        "detalhes_pedido_df = pd.read_sql_query(\"SELECT * FROM Detalhes_Pedidos\", conn)\n",
        "produtos_df = pd.read_sql_query(\"SELECT * FROM Produtos\", conn)\n",
        "\n",
        "# Juntar as tabelas\n",
        "merged_df = detalhes_pedido_df.merge(produtos_df, on='id_Produto')\n",
        "\n",
        "# Agrupar por Categoria e somar a Quantidade\n",
        "top_categorias_df = merged_df.groupby('Categoria')['Quantidade'].sum().sort_values(ascending=False).head(5).reset_index()\n",
        "\n",
        "print(\"Top 5 categorias de produtos mais vendidas:\")\n",
        "print(top_categorias_df)"
      ],
      "metadata": {
        "colab": {
          "base_uri": "https://localhost:8080/"
        },
        "id": "eq344ogBuz1P",
        "outputId": "b4e22033-5a40-489a-d124-40765dbec6ee"
      },
      "execution_count": 20,
      "outputs": [
        {
          "output_type": "stream",
          "name": "stdout",
          "text": [
            "Top 5 categorias de produtos mais vendidas:\n",
            "     Categoria  Quantidade\n",
            "0  Eletrônicos          71\n",
            "1       Livros          27\n",
            "2     Calçados          20\n",
            "3    Vestuário          12\n"
          ]
        }
      ]
    },
    {
      "cell_type": "markdown",
      "source": [
        "  - Análise de Produtos\n",
        "    \n",
        "    b - Qual é o produto mais caro que foi vendido?"
      ],
      "metadata": {
        "id": "HZNhaoiCvVaN"
      }
    },
    {
      "cell_type": "code",
      "source": [
        "import pandas as pd\n",
        "\n",
        "# Carregar os dados das tabelas\n",
        "detalhes_pedido_df = pd.read_sql_query(\"SELECT * FROM Detalhes_Pedidos\", conn)\n",
        "produtos_df = pd.read_sql_query(\"SELECT * FROM Produtos\", conn)\n",
        "\n",
        "# Juntar as tabelas\n",
        "merged_df = detalhes_pedido_df.merge(produtos_df, on='id_Produto')\n",
        "\n",
        "# Encontrar o produto com maior Preco\n",
        "produto_mais_caro_df = merged_df.sort_values('Preco', ascending=False).head(1)\n",
        "\n",
        "print(\"Produto mais caro que foi vendido:\")\n",
        "print(produto_mais_caro_df[['Nome_Produto', 'Preco']])"
      ],
      "metadata": {
        "colab": {
          "base_uri": "https://localhost:8080/"
        },
        "id": "RzaY0yJsvU_b",
        "outputId": "15924535-cc44-4222-f147-924cc9ea59de"
      },
      "execution_count": 21,
      "outputs": [
        {
          "output_type": "stream",
          "name": "stdout",
          "text": [
            "Produto mais caro que foi vendido:\n",
            "      Nome_Produto    Preco\n",
            "13  Notebook Gamer  4999.99\n"
          ]
        }
      ]
    },
    {
      "cell_type": "markdown",
      "source": [
        "  - Análise de Produtos\n",
        "    \n",
        "    c - Qual categoria de produto gera a maior receita\n",
        "\n",
        "---\n",
        "\n"
      ],
      "metadata": {
        "id": "ZNqHw2UVvkCy"
      }
    },
    {
      "cell_type": "code",
      "source": [
        "import pandas as pd\n",
        "\n",
        "# Carregar os dados das tabelas\n",
        "detalhes_pedido_df = pd.read_sql_query(\"SELECT * FROM Detalhes_Pedidos\", conn)\n",
        "produtos_df = pd.read_sql_query(\"SELECT * FROM Produtos\", conn)\n",
        "\n",
        "# Juntar as tabelas\n",
        "merged_df = detalhes_pedido_df.merge(produtos_df, on='id_Produto')\n",
        "\n",
        "# Calcular a receita\n",
        "merged_df['Receita'] = merged_df['Quantidade'] * merged_df['Preco']\n",
        "\n",
        "# Agrupar por Categoria e somar a Receita\n",
        "categoria_maior_receita_df = merged_df.groupby('Categoria')['Receita'].sum().sort_values(ascending=False).head(1).reset_index()\n",
        "\n",
        "print(\"Categoria de produto que gera a maior receita:\")\n",
        "print(categoria_maior_receita_df)"
      ],
      "metadata": {
        "colab": {
          "base_uri": "https://localhost:8080/"
        },
        "id": "R_5nPBF3vjex",
        "outputId": "30e0d632-5076-4578-f3b6-34137e5808eb"
      },
      "execution_count": 22,
      "outputs": [
        {
          "output_type": "stream",
          "name": "stdout",
          "text": [
            "Categoria de produto que gera a maior receita:\n",
            "     Categoria    Receita\n",
            "0  Eletrônicos  150697.22\n"
          ]
        }
      ]
    },
    {
      "cell_type": "markdown",
      "source": [
        "  - Análise de Produtos\n",
        "    \n",
        "    d - Quais são os top 3 produtos mais vendidos?\n"
      ],
      "metadata": {
        "id": "Md3xGzj_v3Eq"
      }
    },
    {
      "cell_type": "code",
      "source": [
        "import pandas as pd\n",
        "\n",
        "# Carregar os dados das tabelas\n",
        "detalhes_pedido_df = pd.read_sql_query(\"SELECT * FROM Detalhes_Pedidos\", conn)\n",
        "produtos_df = pd.read_sql_query(\"SELECT * FROM Produtos\", conn)\n",
        "\n",
        "# Juntar as tabelas\n",
        "merged_df = detalhes_pedido_df.merge(produtos_df, on='id_Produto')\n",
        "\n",
        "# Agrupar por id_Produto e somar a Quantidade\n",
        "top_produtos_df = merged_df.groupby('id_Produto')['Quantidade'].sum().sort_values(ascending=False).head(3).reset_index()\n",
        "\n",
        "# Adicionar o Nome_Produto\n",
        "top_produtos_df = top_produtos_df.merge(produtos_df[['id_Produto', 'Nome_Produto']], on='id_Produto')\n",
        "\n",
        "print(\"Top 3 produtos mais vendidos:\")\n",
        "print(top_produtos_df[['Nome_Produto', 'Quantidade']])"
      ],
      "metadata": {
        "colab": {
          "base_uri": "https://localhost:8080/"
        },
        "id": "PDCMGp8rv2wa",
        "outputId": "92aab19f-d8a1-44f1-9043-a40723f0e049"
      },
      "execution_count": 23,
      "outputs": [
        {
          "output_type": "stream",
          "name": "stdout",
          "text": [
            "Top 3 produtos mais vendidos:\n",
            "                 Nome_Produto  Quantidade\n",
            "0  Livro de Ficção Científica          27\n",
            "1                Smartphone X          26\n",
            "2                  Smartwatch          23\n"
          ]
        }
      ]
    },
    {
      "cell_type": "markdown",
      "source": [
        "  - Análise de Pedidos\n",
        "    \n",
        "    a - \tQual é o número total de pedidos realizados por mês?\n",
        "    \n"
      ],
      "metadata": {
        "id": "m-BcYTulxGTX"
      }
    },
    {
      "cell_type": "code",
      "source": [
        "import pandas as pd\n",
        "\n",
        "# Carregar os dados da tabela Pedidos\n",
        "pedidos_df = pd.read_sql_query(\"SELECT * FROM Pedidos\", conn)\n",
        "\n",
        "# Converter a coluna Data_Pedido para o tipo datetime (se necessário)\n",
        "pedidos_df['Data_Pedido'] = pd.to_datetime(pedidos_df['Data_Pedido'])\n",
        "\n",
        "# Agrupar por mês e contar o número de pedidos\n",
        "pedidos_por_mes_df = pedidos_df.groupby(pedidos_df['Data_Pedido'].dt.month)['id_Pedido'].count().reset_index()\n",
        "\n",
        "print(\"Número total de pedidos realizados por mês:\")\n",
        "print(pedidos_por_mes_df)"
      ],
      "metadata": {
        "colab": {
          "base_uri": "https://localhost:8080/"
        },
        "id": "AEAfRuTuxFzw",
        "outputId": "e0182975-b319-47ca-dad3-52dc7f3f1486"
      },
      "execution_count": 24,
      "outputs": [
        {
          "output_type": "stream",
          "name": "stdout",
          "text": [
            "Número total de pedidos realizados por mês:\n",
            "   Data_Pedido  id_Pedido\n",
            "0            1         15\n",
            "1            2         15\n",
            "2            3          5\n",
            "3           12         15\n"
          ]
        }
      ]
    },
    {
      "cell_type": "markdown",
      "source": [
        "  - Análise de Pedidos\n",
        "           \n",
        "    b - \tQual é o valor médio de um pedido?"
      ],
      "metadata": {
        "id": "IhXBjN8fxcoq"
      }
    },
    {
      "cell_type": "code",
      "source": [
        "import pandas as pd\n",
        "\n",
        "# Carregar os dados das tabelas\n",
        "pedidos_df = pd.read_sql_query(\"SELECT * FROM Pedidos\", conn)\n",
        "detalhes_pedido_df = pd.read_sql_query(\"SELECT * FROM Detalhes_Pedidos\", conn)\n",
        "produtos_df = pd.read_sql_query(\"SELECT * FROM Produtos\", conn)\n",
        "\n",
        "# Juntar as tabelas\n",
        "merged_df = pedidos_df.merge(detalhes_pedido_df, on='id_Pedido').merge(produtos_df, on='id_Produto')\n",
        "\n",
        "# Calcular o valor total do pedido\n",
        "merged_df['Valor_Total'] = merged_df['Quantidade'] * merged_df['Preco']\n",
        "\n",
        "# Agrupar por id_Pedido e somar o valor total\n",
        "valor_total_por_pedido_df = merged_df.groupby('id_Pedido')['Valor_Total'].sum().reset_index()\n",
        "\n",
        "# Calcular o valor médio de um pedido\n",
        "valor_medio_pedido = valor_total_por_pedido_df['Valor_Total'].mean()\n",
        "\n",
        "print(f\"Valor médio de um pedido: {valor_medio_pedido:.2f}\")"
      ],
      "metadata": {
        "colab": {
          "base_uri": "https://localhost:8080/"
        },
        "id": "5ldhapqoxcYm",
        "outputId": "68310018-f6ba-4ef5-cf2d-b8c8fed1fe21"
      },
      "execution_count": 25,
      "outputs": [
        {
          "output_type": "stream",
          "name": "stdout",
          "text": [
            "Valor médio de um pedido: 3107.43\n"
          ]
        }
      ]
    },
    {
      "cell_type": "markdown",
      "source": [
        "  - Análise de Pedidos\n",
        "    \n",
        "    c -\tQuais são os dias da semana com mais pedidos?\n"
      ],
      "metadata": {
        "id": "4qotXLzJxhoM"
      }
    },
    {
      "cell_type": "code",
      "source": [
        "# Em nenhuma das 4 tabelas existe informações que diga respeito aos dias da semana em que foram feitas as compras!\n",
        "\n",
        "# Dessa forma não temos como achar esse valor com base nos dados apresentados nas 4 tabelas do banco de dados"
      ],
      "metadata": {
        "id": "Eg46-zdixhMO"
      },
      "execution_count": null,
      "outputs": []
    },
    {
      "cell_type": "markdown",
      "source": [
        "  - Análise de Pedidos\n",
        "    \n",
        "    d - \tQual é o país com o maior número de pedidos?"
      ],
      "metadata": {
        "id": "kXSKxcHExliM"
      }
    },
    {
      "cell_type": "code",
      "source": [
        "import pandas as pd\n",
        "\n",
        "# Carregar os dados das tabelas\n",
        "pedidos_df = pd.read_sql_query(\"SELECT * FROM Pedidos\", conn)\n",
        "clientes_df = pd.read_sql_query(\"SELECT * FROM Clientes\", conn)\n",
        "\n",
        "# Juntar as tabelas\n",
        "merged_df = pedidos_df.merge(clientes_df, on='id_Cliente')\n",
        "\n",
        "# Agrupar por Pais e contar o número de pedidos\n",
        "pedidos_por_pais_df = merged_df.groupby('Pais')['id_Pedido'].count().sort_values(ascending=False).head(1).reset_index()\n",
        "\n",
        "print(\"País com o maior número de pedidos:\")\n",
        "print(pedidos_por_pais_df)"
      ],
      "metadata": {
        "colab": {
          "base_uri": "https://localhost:8080/"
        },
        "id": "wn2wWfnFxlRj",
        "outputId": "e78c6070-7f5b-4779-ed80-e5df76ba3734"
      },
      "execution_count": 27,
      "outputs": [
        {
          "output_type": "stream",
          "name": "stdout",
          "text": [
            "País com o maior número de pedidos:\n",
            "     Pais  id_Pedido\n",
            "0  Brasil         30\n"
          ]
        }
      ]
    },
    {
      "cell_type": "markdown",
      "source": [
        "  - Análise de Tendências de Vendas\n",
        "\n",
        "    a -\tComo as vendas de cada categoria de produto mudaram ao longo do ano?\n",
        "\n"
      ],
      "metadata": {
        "id": "5GQ5yLJs2iwJ"
      }
    },
    {
      "cell_type": "code",
      "source": [],
      "metadata": {
        "id": "jjyMaAYt2iMA"
      },
      "execution_count": null,
      "outputs": []
    },
    {
      "cell_type": "markdown",
      "source": [
        "  - Análise de Tendências de Vendas\n",
        "\n",
        "    b - \tExiste alguma correlação entre o país do cliente e a categoria de produto comprada?\n",
        "\n",
        "   "
      ],
      "metadata": {
        "id": "olvWndZW2wRg"
      }
    },
    {
      "cell_type": "code",
      "source": [
        "import pandas as pd\n",
        "\n",
        "# Carregar os dados das tabelas\n",
        "detalhes_pedido_df = pd.read_sql_query(\"SELECT * FROM Detalhes_Pedidos\", conn)\n",
        "produtos_df = pd.read_sql_query(\"SELECT * FROM Produtos\", conn)\n",
        "clientes_df = pd.read_sql_query(\"SELECT * FROM Clientes\", conn)\n",
        "pedidos_df = pd.read_sql_query(\"SELECT * FROM Pedidos\", conn)\n",
        "\n",
        "# Juntar as tabelas\n",
        "merged_df = detalhes_pedido_df.merge(produtos_df, on='id_Produto').merge(pedidos_df, on='id_Pedido').merge(clientes_df, on='id_Cliente')\n",
        "\n",
        "# Criar uma tabela de frequência para verificar a correlação\n",
        "tabela_frequencia = pd.crosstab(merged_df['Pais'], merged_df['Categoria'], normalize='index')\n",
        "\n",
        "print(\"Correlação entre país do cliente e categoria de produto comprada:\")\n",
        "print(tabela_frequencia)"
      ],
      "metadata": {
        "colab": {
          "base_uri": "https://localhost:8080/"
        },
        "id": "0TgRManh2v_J",
        "outputId": "ea7f06e0-5b5f-49ec-d8c9-32e474ede4ed"
      },
      "execution_count": 29,
      "outputs": [
        {
          "output_type": "stream",
          "name": "stdout",
          "text": [
            "Correlação entre país do cliente e categoria de produto comprada:\n",
            "Categoria  Calçados  Eletrônicos  Livros  Vestuário\n",
            "Pais                                               \n",
            "Argentina  0.200000          0.6     0.1   0.100000\n",
            "Brasil     0.166667          0.5     0.2   0.133333\n",
            "Portugal   0.100000          0.6     0.2   0.100000\n"
          ]
        }
      ]
    },
    {
      "cell_type": "markdown",
      "source": [
        "  - Análise de Tendências de Vendas\n",
        "\n",
        "    c - \tComo o valor médio do pedido varia por mês?\n",
        "\n"
      ],
      "metadata": {
        "id": "tggKJj7b25a_"
      }
    },
    {
      "cell_type": "code",
      "source": [
        "import pandas as pd\n",
        "\n",
        "# Carregar os dados das tabelas\n",
        "detalhes_pedido_df = pd.read_sql_query(\"SELECT * FROM Detalhes_Pedidos\", conn)\n",
        "produtos_df = pd.read_sql_query(\"SELECT * FROM Produtos\", conn)\n",
        "pedidos_df = pd.read_sql_query(\"SELECT * FROM Pedidos\", conn)\n",
        "\n",
        "# Juntar as tabelas\n",
        "merged_df = detalhes_pedido_df.merge(produtos_df, on='id_Produto').merge(pedidos_df, on='id_Pedido')\n",
        "\n",
        "# Calcular o valor total do pedido\n",
        "merged_df['Valor_Total'] = merged_df['Quantidade'] * merged_df['Preco']\n",
        "\n",
        "# Converter a coluna Data_Pedido para o tipo datetime\n",
        "merged_df['Data_Pedido'] = pd.to_datetime(merged_df['Data_Pedido'])\n",
        "\n",
        "# Agrupar por mês e calcular o valor médio do pedido\n",
        "valor_medio_pedido_por_mes_df = merged_df.groupby(merged_df['Data_Pedido'].dt.month)['Valor_Total'].mean().reset_index()\n",
        "\n",
        "print(\"Valor médio do pedido por mês:\")\n",
        "print(valor_medio_pedido_por_mes_df)"
      ],
      "metadata": {
        "colab": {
          "base_uri": "https://localhost:8080/"
        },
        "id": "Q4-qC7mi25IE",
        "outputId": "f8372a99-75aa-4604-e161-5acc93a8add1"
      },
      "execution_count": 30,
      "outputs": [
        {
          "output_type": "stream",
          "name": "stdout",
          "text": [
            "Valor médio do pedido por mês:\n",
            "   Data_Pedido  Valor_Total\n",
            "0            1  2507.812000\n",
            "1            2  3490.496667\n",
            "2            3  2621.794000\n",
            "3           12  3485.848000\n"
          ]
        }
      ]
    },
    {
      "cell_type": "markdown",
      "source": [
        "  - Análise de Tendências de Vendas\n",
        "\n",
        "    d - \tQual categoria de produto mostra a maior variação de vendas entre os meses?\n"
      ],
      "metadata": {
        "id": "VZDhgXpp8cwG"
      }
    },
    {
      "cell_type": "code",
      "source": [],
      "metadata": {
        "id": "bNuBrQ_K8cTl"
      },
      "execution_count": null,
      "outputs": []
    }
  ]
}